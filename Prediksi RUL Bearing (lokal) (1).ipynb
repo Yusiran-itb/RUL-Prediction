{
 "cells": [
  {
   "cell_type": "markdown",
   "metadata": {},
   "source": [
    "# RUL Forecasting \n",
    "\n",
    "Metode:\n",
    "\n",
    "- model: SVR dengan kernel polinomial\n",
    "- data smoothing menggunakan library tsmoothie"
   ]
  },
  {
   "cell_type": "markdown",
   "metadata": {},
   "source": [
    "# Import modul"
   ]
  },
  {
   "cell_type": "code",
   "execution_count": 1,
   "metadata": {},
   "outputs": [],
   "source": [
    "import numpy as np\n",
    "import pandas as pd\n",
    "import joblib\n",
    "import sklearn.metrics as metrics\n",
    "from sklearn.model_selection import train_test_split\n",
    "from sklearn.metrics import r2_score\n",
    "from sklearn.svm import SVR\n",
    "from sklearn.model_selection import GridSearchCV\n",
    "import matplotlib.pyplot as plt\n",
    "from sklearn.preprocessing import StandardScaler\n",
    "from sklearn.metrics import make_scorer"
   ]
  },
  {
   "cell_type": "markdown",
   "metadata": {},
   "source": [
    "# Fungsi utility"
   ]
  },
  {
   "cell_type": "code",
   "execution_count": 2,
   "metadata": {},
   "outputs": [],
   "source": [
    "def get_data():\n",
    "    df = pd.read_csv(\"Data Vibrasi Bearing 3.xlsx.csv\")\n",
    "    column_target = \"Eng Brg 3X Vibration\"\n",
    "    df = df[column_target]\n",
    "    return df\n",
    "\n",
    "def regression_results(y_true, y_pred):\n",
    "    # Regression metrics\n",
    "    explained_variance = metrics.explained_variance_score(y_true, y_pred)\n",
    "    mean_absolute_error = metrics.mean_absolute_error(y_true, y_pred) \n",
    "    mse=metrics.mean_squared_error(y_true, y_pred) \n",
    "    mean_squared_log_error=metrics.mean_squared_log_error(y_true, y_pred)\n",
    "    median_absolute_error=metrics.median_absolute_error(y_true, y_pred)\n",
    "    r2=metrics.r2_score(y_true, y_pred)\n",
    "    \n",
    "    print('explained_variance: ', round(explained_variance,4))    \n",
    "    print('mean_squared_log_error: ', round(mean_squared_log_error,4))\n",
    "    print('r2: ', round(r2,4))\n",
    "    print('MAE: ', round(mean_absolute_error,4))\n",
    "    print('MSE: ', round(mse,4))\n",
    "    print('RMSE: ', round(np.sqrt(mse),4))"
   ]
  },
  {
   "cell_type": "markdown",
   "metadata": {},
   "source": [
    "# Preprocessing"
   ]
  },
  {
   "cell_type": "code",
   "execution_count": 3,
   "metadata": {},
   "outputs": [
    {
     "name": "stdout",
     "output_type": "stream",
     "text": [
      "jumlah data keseluruhan: 17520\n"
     ]
    }
   ],
   "source": [
    "data = get_data()\n",
    "print(f\"jumlah data keseluruhan: {len(data)}\")"
   ]
  },
  {
   "cell_type": "markdown",
   "metadata": {},
   "source": [
    "Amputasi data\n",
    "---------------------"
   ]
  },
  {
   "cell_type": "code",
   "execution_count": 4,
   "metadata": {},
   "outputs": [
    {
     "name": "stdout",
     "output_type": "stream",
     "text": [
      "4713      9.65\n",
      "4714      9.40\n",
      "4715      9.14\n",
      "4716      9.40\n",
      "4717      9.14\n",
      "         ...  \n",
      "10942    21.30\n",
      "10943    20.80\n",
      "10944    21.10\n",
      "10945    20.80\n",
      "10946    20.60\n",
      "Name: Eng Brg 3X Vibration, Length: 6234, dtype: float64 \n",
      "\n",
      "Jumlah data keseluruhan: 6234\n"
     ]
    },
    {
     "data": {
      "text/plain": [
       "<module 'matplotlib.pyplot' from 'C:\\\\Users\\\\USER\\\\anaconda3\\\\lib\\\\site-packages\\\\matplotlib\\\\pyplot.py'>"
      ]
     },
     "execution_count": 4,
     "metadata": {},
     "output_type": "execute_result"
    }
   ],
   "source": [
    "data = data[4713:10947]\n",
    "print(data, \"\\n\")\n",
    "print(f\"Jumlah data keseluruhan: {len(data)}\")\n",
    "plt"
   ]
  },
  {
   "cell_type": "markdown",
   "metadata": {},
   "source": [
    "Filter data yang kecil dari 7\n",
    "---------------------------------------"
   ]
  },
  {
   "cell_type": "code",
   "execution_count": 5,
   "metadata": {},
   "outputs": [
    {
     "name": "stdout",
     "output_type": "stream",
     "text": [
      "4713      9.65\n",
      "4714      9.40\n",
      "4715      9.14\n",
      "4716      9.40\n",
      "4717      9.14\n",
      "         ...  \n",
      "10942    21.30\n",
      "10943    20.80\n",
      "10944    21.10\n",
      "10945    20.80\n",
      "10946    20.60\n",
      "Name: Eng Brg 3X Vibration, Length: 6116, dtype: float64\n",
      "Jumlah data setelah fitler: 6116\n"
     ]
    }
   ],
   "source": [
    "filtered = data[data > 7]\n",
    "print(filtered)\n",
    "print(f\"Jumlah data setelah fitler: {len(filtered)}\")"
   ]
  },
  {
   "cell_type": "markdown",
   "metadata": {},
   "source": [
    "Simpan data\n",
    "------------------"
   ]
  },
  {
   "cell_type": "code",
   "execution_count": 6,
   "metadata": {},
   "outputs": [],
   "source": [
    "df = pd.DataFrame({\"data\": filtered.to_numpy()})\n",
    "df.to_csv(\"bearing-3-extracted.csv\", index=False)"
   ]
  },
  {
   "cell_type": "markdown",
   "metadata": {},
   "source": [
    "# Data Smoothing "
   ]
  },
  {
   "cell_type": "code",
   "execution_count": 7,
   "metadata": {},
   "outputs": [
    {
     "data": {
      "text/plain": [
       "[<matplotlib.lines.Line2D at 0x2999a841d30>]"
      ]
     },
     "execution_count": 7,
     "metadata": {},
     "output_type": "execute_result"
    },
    {
     "data": {
      "image/png": "[encoded data removed]",
      "text/plain": [
       "<Figure size 432x288 with 1 Axes>"
      ]
     },
     "metadata": {
      "needs_background": "light"
     },
     "output_type": "display_data"
    }
   ],
   "source": [
    "import pandas as pd\n",
    "from tsmoothie.smoother import DecomposeSmoother, LowessSmoother\n",
    "import matplotlib.pyplot as plt\n",
    "\n",
    "smoother = LowessSmoother(smooth_fraction=0.1, iterations=1)\n",
    "\n",
    "df = pd.read_csv(\"bearing-3-extracted.csv\")\n",
    "smoother.smooth(df)\n",
    "\n",
    "plt.plot(df, label=\"data\", c=\"red\")\n",
    "plt.plot(smoother.smooth_data[0], label=\"Extracted\", c=\"grey\")"
   ]
  },
  {
   "cell_type": "markdown",
   "metadata": {},
   "source": [
    "# Training"
   ]
  },
  {
   "cell_type": "code",
   "execution_count": 8,
   "metadata": {},
   "outputs": [],
   "source": [
    "import numpy as np\n",
    "\n",
    "y = smoother.smooth_data[0]\n",
    "x = np.array([[i] for i in range(len(y))])\n",
    "\n",
    "for i in range(100):\n",
    "    for j in range(5):\n",
    "        clf_poly = SVR(kernel=\"poly\", degree=2)\n",
    "        clf_poly.fit(x, y)\n",
    "        "
   ]
  },
  {
   "cell_type": "code",
   "execution_count": 9,
   "metadata": {},
   "outputs": [
    {
     "data": {
      "text/plain": [
       "['svr.joblib']"
      ]
     },
     "execution_count": 9,
     "metadata": {},
     "output_type": "execute_result"
    }
   ],
   "source": [
    "from joblib import dump\n",
    "dump(clf_poly, \"svr.joblib\")"
   ]
  },
  {
   "cell_type": "markdown",
   "metadata": {},
   "source": [
    "# Cari titik dimana vibrasi > vibrasi TH"
   ]
  },
  {
   "cell_type": "code",
   "execution_count": 10,
   "metadata": {},
   "outputs": [
    {
     "name": "stdout",
     "output_type": "stream",
     "text": [
      "[ 8.08209214  8.08209242  8.08209327 ... 81.79875909 81.80790934\n",
      " 81.81706015]\n"
     ]
    }
   ],
   "source": [
    "TH = 63\n",
    "\n",
    "x_test = [[i] for i in range(0, len(y)+10000)]\n",
    "\n",
    "out = clf_poly.predict(x_test)\n",
    "print(out)\n",
    "\n",
    "i = 0\n",
    "\n",
    "\n",
    "for i in x_test:\n",
    "    t = clf_poly.predict([i])\n",
    "    \n",
    "    if t > 63 and t < 64 :\n",
    "        x_mark = i\n",
    "        y_mark = t\n",
    "    "
   ]
  },
  {
   "cell_type": "code",
   "execution_count": 11,
   "metadata": {},
   "outputs": [],
   "source": [
    "RUL_X = [i for i in range(len(x)+10000)]\n",
    "RUL_Y = [max(y) for i in range(len(y)+10000)]\n",
    "\n",
    "EOL_Y = np.linspace(0, TH, 1000)\n",
    "EOL_X = [max(x) for i in range(1000)]\n",
    "\n",
    "TH_Y = [y_mark for i in range(len(y)+10000)]"
   ]
  },
  {
   "cell_type": "code",
   "execution_count": 12,
   "metadata": {},
   "outputs": [
    {
     "data": {
      "image/png": "[encoded data removed]",
      "text/plain": [
       "<Figure size 432x288 with 1 Axes>"
      ]
     },
     "metadata": {
      "needs_background": "light"
     },
     "output_type": "display_data"
    }
   ],
   "source": [
    "plt.plot(df, label=\"Historikal Data\", c=\"orange\")\n",
    "plt.plot(smoother.smooth_data[0], label=\"Data Ekstraksi\", c=\"blue\")\n",
    "plt.plot(x_test, out, label=\"Model\", c=\"yellow\")\n",
    "plt.plot(x_mark, y_mark, marker=\"o\", c=\"red\", label=\"Threshold\")\n",
    "plt.plot(EOL_X, EOL_Y, c=\"green\")\n",
    "plt.plot(RUL_X, TH_Y, c=\"brown\")\n",
    "\n",
    "# plotting untuk penandaan RUL\n",
    "plt.text(x_mark[0]+0.8, y_mark[0]+.08, f\"{x_mark[0]} hour\", fontsize=9)\n",
    "\n",
    "plt.xlabel(\"Jam\")\n",
    "plt.ylabel(\"Vibrasi $\\mu$m\")\n",
    "plt.legend()\n",
    "plt.show()"
   ]
  },
  {
   "cell_type": "code",
   "execution_count": 13,
   "metadata": {},
   "outputs": [
    {
     "name": "stdout",
     "output_type": "stream",
     "text": [
      "explained_variance:  0.8541\n",
      "mean_squared_log_error:  0.0085\n",
      "r2:  0.8503\n",
      "MAE:  0.9602\n",
      "MSE:  1.5953\n",
      "RMSE:  1.263\n"
     ]
    }
   ],
   "source": [
    "y_test = smoother.smooth_data[0]\n",
    "x_test = np.array([[i] for i in range(len(y))])\n",
    "\n",
    "out = clf_poly.predict(x_test)\n",
    "regression_results(y_test, out)"
   ]
  },
  {
   "cell_type": "code",
   "execution_count": null,
   "metadata": {},
   "outputs": [],
   "source": []
  }
 ],
 "metadata": {
  "kernelspec": {
   "display_name": "Python 3",
   "language": "python",
   "name": "python3"
  },
  "language_info": {
   "codemirror_mode": {
    "name": "ipython",
    "version": 3
   },
   "file_extension": ".py",
   "mimetype": "text/x-python",
   "name": "python",
   "nbconvert_exporter": "python",
   "pygments_lexer": "ipython3",
   "version": "3.8.3"
  }
 },
 "nbformat": 4,
 "nbformat_minor": 4
}
